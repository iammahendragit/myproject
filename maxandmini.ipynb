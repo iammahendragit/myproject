{
 "cells": [
  {
   "cell_type": "code",
   "execution_count": 1,
   "metadata": {},
   "outputs": [],
   "source": [
    "import pandas as pd\n",
    "import numpy as np\n",
    "import matplotlib.pyplot as plt\n",
    "from sklearn.model_selection import train_test_split\n",
    "from sklearn.linear_model import LinearRegression\n",
    "import seaborn\n",
    "from sklearn import metrics\n"
   ]
  },
  {
   "cell_type": "code",
   "execution_count": 3,
   "metadata": {},
   "outputs": [
    {
     "data": {
      "text/html": [
       "<div>\n",
       "<style scoped>\n",
       "    .dataframe tbody tr th:only-of-type {\n",
       "        vertical-align: middle;\n",
       "    }\n",
       "\n",
       "    .dataframe tbody tr th {\n",
       "        vertical-align: top;\n",
       "    }\n",
       "\n",
       "    .dataframe thead th {\n",
       "        text-align: right;\n",
       "    }\n",
       "</style>\n",
       "<table border=\"1\" class=\"dataframe\">\n",
       "  <thead>\n",
       "    <tr style=\"text-align: right;\">\n",
       "      <th></th>\n",
       "      <th>Date</th>\n",
       "      <th>miniTemp</th>\n",
       "      <th>maxTemp</th>\n",
       "      <th>humidityAt3</th>\n",
       "      <th>humidityAt12</th>\n",
       "      <th>precipitation</th>\n",
       "    </tr>\n",
       "  </thead>\n",
       "  <tbody>\n",
       "    <tr>\n",
       "      <th>0</th>\n",
       "      <td>1/1/2010</td>\n",
       "      <td>10.0</td>\n",
       "      <td>19.0</td>\n",
       "      <td>92.50</td>\n",
       "      <td>91.10</td>\n",
       "      <td>0.0</td>\n",
       "    </tr>\n",
       "    <tr>\n",
       "      <th>1</th>\n",
       "      <td>1/2/2010</td>\n",
       "      <td>10.5</td>\n",
       "      <td>22.7</td>\n",
       "      <td>77.70</td>\n",
       "      <td>95.70</td>\n",
       "      <td>0.0</td>\n",
       "    </tr>\n",
       "    <tr>\n",
       "      <th>2</th>\n",
       "      <td>1/3/2010</td>\n",
       "      <td>10.0</td>\n",
       "      <td>18.5</td>\n",
       "      <td>94.80</td>\n",
       "      <td>95.30</td>\n",
       "      <td>0.0</td>\n",
       "    </tr>\n",
       "    <tr>\n",
       "      <th>3</th>\n",
       "      <td>1/4/2010</td>\n",
       "      <td>8.5</td>\n",
       "      <td>18.5</td>\n",
       "      <td>89.60</td>\n",
       "      <td>100.00</td>\n",
       "      <td>0.0</td>\n",
       "    </tr>\n",
       "    <tr>\n",
       "      <th>4</th>\n",
       "      <td>1/5/2010</td>\n",
       "      <td>7.0</td>\n",
       "      <td>21.5</td>\n",
       "      <td>97.20</td>\n",
       "      <td>100.00</td>\n",
       "      <td>0.0</td>\n",
       "    </tr>\n",
       "    <tr>\n",
       "      <th>...</th>\n",
       "      <td>...</td>\n",
       "      <td>...</td>\n",
       "      <td>...</td>\n",
       "      <td>...</td>\n",
       "      <td>...</td>\n",
       "      <td>...</td>\n",
       "    </tr>\n",
       "    <tr>\n",
       "      <th>4371</th>\n",
       "      <td>12/27/2021</td>\n",
       "      <td>13.0</td>\n",
       "      <td>24.0</td>\n",
       "      <td>67.56</td>\n",
       "      <td>79.82</td>\n",
       "      <td>0.0</td>\n",
       "    </tr>\n",
       "    <tr>\n",
       "      <th>4372</th>\n",
       "      <td>12/28/2021</td>\n",
       "      <td>12.6</td>\n",
       "      <td>24.0</td>\n",
       "      <td>67.62</td>\n",
       "      <td>76.69</td>\n",
       "      <td>0.0</td>\n",
       "    </tr>\n",
       "    <tr>\n",
       "      <th>4373</th>\n",
       "      <td>12/29/2021</td>\n",
       "      <td>16.0</td>\n",
       "      <td>18.5</td>\n",
       "      <td>95.04</td>\n",
       "      <td>82.33</td>\n",
       "      <td>0.1</td>\n",
       "    </tr>\n",
       "    <tr>\n",
       "      <th>4374</th>\n",
       "      <td>12/30/2021</td>\n",
       "      <td>12.5</td>\n",
       "      <td>24.0</td>\n",
       "      <td>71.48</td>\n",
       "      <td>79.92</td>\n",
       "      <td>5.7</td>\n",
       "    </tr>\n",
       "    <tr>\n",
       "      <th>4375</th>\n",
       "      <td>12/31/2021</td>\n",
       "      <td>11.0</td>\n",
       "      <td>24.5</td>\n",
       "      <td>67.96</td>\n",
       "      <td>84.67</td>\n",
       "      <td>0.0</td>\n",
       "    </tr>\n",
       "  </tbody>\n",
       "</table>\n",
       "<p>4376 rows × 6 columns</p>\n",
       "</div>"
      ],
      "text/plain": [
       "            Date  miniTemp  maxTemp  humidityAt3  humidityAt12  precipitation\n",
       "0       1/1/2010      10.0     19.0        92.50         91.10            0.0\n",
       "1       1/2/2010      10.5     22.7        77.70         95.70            0.0\n",
       "2       1/3/2010      10.0     18.5        94.80         95.30            0.0\n",
       "3       1/4/2010       8.5     18.5        89.60        100.00            0.0\n",
       "4       1/5/2010       7.0     21.5        97.20        100.00            0.0\n",
       "...          ...       ...      ...          ...           ...            ...\n",
       "4371  12/27/2021      13.0     24.0        67.56         79.82            0.0\n",
       "4372  12/28/2021      12.6     24.0        67.62         76.69            0.0\n",
       "4373  12/29/2021      16.0     18.5        95.04         82.33            0.1\n",
       "4374  12/30/2021      12.5     24.0        71.48         79.92            5.7\n",
       "4375  12/31/2021      11.0     24.5        67.96         84.67            0.0\n",
       "\n",
       "[4376 rows x 6 columns]"
      ]
     },
     "execution_count": 3,
     "metadata": {},
     "output_type": "execute_result"
    }
   ],
   "source": [
    "dataset=pd.read_csv('./FinalSetOfData.csv')\n",
    "dataset"
   ]
  },
  {
   "cell_type": "code",
   "execution_count": 6,
   "metadata": {},
   "outputs": [
    {
     "name": "stdout",
     "output_type": "stream",
     "text": [
      "          miniTemp      maxTemp  humidityAt3  humidityAt12  precipitation\n",
      "count  4376.000000  4376.000000  4376.000000   4376.000000    4376.000000\n",
      "mean     20.218053    29.857313    80.244637     82.382729       5.737361\n",
      "std       5.031388     4.007211    12.064301     13.205556      17.013509\n",
      "min       1.900000     9.000000    32.800000      8.600000       0.000000\n",
      "25%      16.200000    27.500000    72.230000     75.700000       0.000000\n",
      "50%      21.500000    31.000000    81.700000     85.200000       0.000000\n",
      "75%      24.500000    32.825000    89.700000     92.200000       2.200000\n",
      "max      28.000000    38.800000   100.000000    100.000000     292.900000\n"
     ]
    }
   ],
   "source": [
    "print(dataset.describe())"
   ]
  },
  {
   "cell_type": "code",
   "execution_count": 7,
   "metadata": {},
   "outputs": [
    {
     "data": {
      "image/png": "[encoded data removed]",
      "text/plain": [
       "<Figure size 432x288 with 1 Axes>"
      ]
     },
     "metadata": {
      "needs_background": "light"
     },
     "output_type": "display_data"
    }
   ],
   "source": [
    "dataset.plot(x='miniTemp', y='maxTemp', style='o')\n",
    "plt.title('min vs max')\n",
    "plt.xlabel('mintemp')\n",
    "plt.ylabel('maxtemp')\n",
    "plt.show()\n"
   ]
  },
  {
   "cell_type": "code",
   "execution_count": 8,
   "metadata": {},
   "outputs": [
    {
     "name": "stderr",
     "output_type": "stream",
     "text": [
      "C:\\Users\\Acer\\AppData\\Local\\Programs\\Python\\Python38-32\\lib\\site-packages\\seaborn\\distributions.py:2619: FutureWarning: `distplot` is a deprecated function and will be removed in a future version. Please adapt your code to use either `displot` (a figure-level function with similar flexibility) or `histplot` (an axes-level function for histograms).\n",
      "  warnings.warn(msg, FutureWarning)\n"
     ]
    },
    {
     "data": {
      "image/png": "[encoded data removed]",
      "text/plain": [
       "<Figure size 1080x720 with 1 Axes>"
      ]
     },
     "metadata": {
      "needs_background": "light"
     },
     "output_type": "display_data"
    }
   ],
   "source": [
    "plt.figure(figsize=(15, 10))\n",
    "plt.tight_layout()\n",
    "seaborn.distplot(dataset['maxTemp'])\n",
    "plt.show()\n"
   ]
  },
  {
   "cell_type": "code",
   "execution_count": 9,
   "metadata": {},
   "outputs": [],
   "source": [
    "X= dataset['miniTemp'].values.reshape(-1,1)\n",
    "y= dataset['maxTemp'].values.reshape(-1,1)\n",
    "X_train,X_test,y_train,y_test = train_test_split(X,y,test_size=0.2, random_state=0)"
   ]
  },
  {
   "cell_type": "code",
   "execution_count": 10,
   "metadata": {},
   "outputs": [
    {
     "data": {
      "text/plain": [
       "LinearRegression()"
      ]
     },
     "execution_count": 10,
     "metadata": {},
     "output_type": "execute_result"
    }
   ],
   "source": [
    "model =LinearRegression()\n",
    "model.fit(X_train,y_train)"
   ]
  },
  {
   "cell_type": "code",
   "execution_count": 11,
   "metadata": {},
   "outputs": [
    {
     "data": {
      "text/plain": [
       "LinearRegression(normalize=False)"
      ]
     },
     "execution_count": 11,
     "metadata": {},
     "output_type": "execute_result"
    }
   ],
   "source": [
    "LinearRegression(copy_X=True, fit_intercept=True, n_jobs=None, normalize=False)\n"
   ]
  },
  {
   "cell_type": "code",
   "execution_count": 12,
   "metadata": {},
   "outputs": [
    {
     "name": "stdout",
     "output_type": "stream",
     "text": [
      "Intercept is : [16.39303203]\n"
     ]
    }
   ],
   "source": [
    "print('Intercept is :',model.intercept_)"
   ]
  },
  {
   "cell_type": "code",
   "execution_count": 13,
   "metadata": {},
   "outputs": [
    {
     "name": "stdout",
     "output_type": "stream",
     "text": [
      "Coefficient is : [[0.66661418]]\n"
     ]
    }
   ],
   "source": [
    "print('Coefficient is :' ,model.coef_)"
   ]
  },
  {
   "cell_type": "code",
   "execution_count": 14,
   "metadata": {},
   "outputs": [],
   "source": [
    "y_pred= model.predict(X_test)"
   ]
  },
  {
   "cell_type": "code",
   "execution_count": 15,
   "metadata": {},
   "outputs": [
    {
     "name": "stdout",
     "output_type": "stream",
     "text": [
      "     Actual  Predicted\n",
      "0      29.7  33.058387\n",
      "1      27.7  25.658969\n",
      "2      32.0  32.991725\n",
      "3      29.1  33.791662\n",
      "4      31.4  29.392009\n",
      "..      ...        ...\n",
      "871    35.0  34.058308\n",
      "872    30.5  33.725001\n",
      "873    30.4  30.725237\n",
      "874    29.5  29.392009\n",
      "875    26.9  26.325583\n",
      "\n",
      "[876 rows x 2 columns]\n"
     ]
    }
   ],
   "source": [
    "df = pd.DataFrame({'Actual': y_test.flatten(), 'Predicted': y_pred.flatten()})\n",
    "print(df)\n"
   ]
  },
  {
   "cell_type": "code",
   "execution_count": 16,
   "metadata": {},
   "outputs": [
    {
     "data": {
      "image/png": "[encoded data removed]",
      "text/plain": [
       "<Figure size 1152x720 with 1 Axes>"
      ]
     },
     "metadata": {
      "needs_background": "light"
     },
     "output_type": "display_data"
    }
   ],
   "source": [
    "df1 = df.head(25)\n",
    "df1.plot(kind='bar', figsize=(16, 10))\n",
    "plt.grid(which='major', linestyle='-', linewidth='0.5', color='green')\n",
    "plt.grid(which='minor', linestyle=':', linewidth='0.5', color='black')\n",
    "plt.show()\n"
   ]
  },
  {
   "cell_type": "code",
   "execution_count": 17,
   "metadata": {},
   "outputs": [
    {
     "data": {
      "image/png": "[encoded data removed]",
      "text/plain": [
       "<Figure size 432x288 with 1 Axes>"
      ]
     },
     "metadata": {
      "needs_background": "light"
     },
     "output_type": "display_data"
    }
   ],
   "source": [
    "plt.scatter(X_test, y_test, color='gray')\n",
    "plt.plot(X_test, y_pred, color='red', linewidth=2)\n",
    "plt.show()\n"
   ]
  },
  {
   "cell_type": "code",
   "execution_count": 18,
   "metadata": {},
   "outputs": [
    {
     "name": "stdout",
     "output_type": "stream",
     "text": [
      "Mean abolute error is: 1.5870390383359572\n",
      "Mean squared error is: 4.67755407529236\n",
      "Root mean squared error is: 2.162765376847974\n"
     ]
    }
   ],
   "source": [
    "print('Mean abolute error is:', metrics.mean_absolute_error(y_test,y_pred))\n",
    "print('Mean squared error is:', metrics.mean_squared_error(y_test,y_pred))\n",
    "print('Root mean squared error is:', np.sqrt(metrics.mean_squared_error(y_test,y_pred)))"
   ]
  },
  {
   "cell_type": "code",
   "execution_count": null,
   "metadata": {},
   "outputs": [],
   "source": []
  }
 ],
 "metadata": {
  "interpreter": {
   "hash": "8a42e8581704d812f174276cadf47b91a8b3cbce976324507688b69a62b18c0b"
  },
  "kernelspec": {
   "display_name": "Python 3.8.0 32-bit",
   "language": "python",
   "name": "python3"
  },
  "language_info": {
   "codemirror_mode": {
    "name": "ipython",
    "version": 3
   },
   "file_extension": ".py",
   "mimetype": "text/x-python",
   "name": "python",
   "nbconvert_exporter": "python",
   "pygments_lexer": "ipython3",
   "version": "3.8.0"
  },
  "orig_nbformat": 4
 },
 "nbformat": 4,
 "nbformat_minor": 2
}
